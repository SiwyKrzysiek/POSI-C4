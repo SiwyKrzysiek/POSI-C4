{
 "cells": [
  {
   "cell_type": "markdown",
   "metadata": {},
   "source": [
    "# Analiza wypływu parametrów na algorytm mrówkowy"
   ]
  },
  {
   "cell_type": "code",
   "execution_count": 19,
   "metadata": {
    "ExecuteTime": {
     "end_time": "2020-06-11T13:12:45.640085Z",
     "start_time": "2020-06-11T13:12:45.636660Z"
    }
   },
   "outputs": [],
   "source": [
    "import numpy as np\n",
    "import pandas as pd\n",
    "import plotly.express as px\n",
    "import plotly.graph_objects as go\n",
    "\n",
    "import re\n",
    "from pathlib import Path\n",
    "from glob import glob\n",
    "from collections import defaultdict"
   ]
  },
  {
   "cell_type": "markdown",
   "metadata": {},
   "source": [
    "Przydatne funkcje"
   ]
  },
  {
   "cell_type": "code",
   "execution_count": 24,
   "metadata": {
    "ExecuteTime": {
     "end_time": "2020-06-11T13:20:28.922073Z",
     "start_time": "2020-06-11T13:20:28.915761Z"
    }
   },
   "outputs": [],
   "source": [
    "def load_mrowczenie(file_path: str) -> defaultdict:\n",
    "    line_pattern = r'Pokolenie nr=\\s*(?P<generation>\\d+)\\s+najlepszy=\\s*(?P<best_ant_num>\\d+)\\(dl=\\s*(?P<best_value>[-+]?[0-9]*\\.?[0-9]*)\\),\\s*najgorszy=\\s*(?P<worst_ant_num>\\d+)\\(dl=\\s*(?P<worst_value>[-+]?[0-9]*\\.?[0-9]*)\\),\\s*średnia_dl=\\s*(?P<mean_value>[-+]?[0-9]*\\.?[0-9]*)'\n",
    "    \n",
    "    with open(file_path, 'r', encoding='windows-1250') as file:\n",
    "        lines = file.readlines()\n",
    "        \n",
    "#     data = []\n",
    "    data = defaultdict(list)\n",
    "    for line in lines:\n",
    "        match = re.match(line_pattern, line)\n",
    "        if not match:\n",
    "            print('Line didn\\'t match!')\n",
    "            continue\n",
    "            \n",
    "        data['generacja'].append(match.group('generation'))\n",
    "        data['najlepsza mrówka'].append(match.group('best_ant_num'))\n",
    "        data['najlepsza wartość'].append(match.group('best_value'))\n",
    "        data['najgorsza mrówka'].append(match.group('worst_ant_num'))\n",
    "        data['najgorsza wartość'].append(match.group('worst_value'))\n",
    "        data['średnia wartość'].append(match.group('mean_value'))\n",
    "#         data.append([match.group(g) for g in ['generation', 'best_ant_num', 'best_value', 'worst_ant_num', 'worst_value', 'mean_value']])\n",
    "        \n",
    "    return data"
   ]
  },
  {
   "cell_type": "code",
   "execution_count": 23,
   "metadata": {
    "ExecuteTime": {
     "end_time": "2020-06-11T13:19:42.055715Z",
     "start_time": "2020-06-11T13:19:42.052058Z"
    }
   },
   "outputs": [
    {
     "data": {
      "text/plain": [
       "['aa', 'aa', 'aa', 'aa', 'aa', 'aa']"
      ]
     },
     "execution_count": 23,
     "metadata": {},
     "output_type": "execute_result"
    }
   ],
   "source": [
    "['aa'] * 6"
   ]
  },
  {
   "cell_type": "code",
   "execution_count": 53,
   "metadata": {
    "ExecuteTime": {
     "end_time": "2020-06-11T13:38:16.409160Z",
     "start_time": "2020-06-11T13:38:16.402147Z"
    }
   },
   "outputs": [],
   "source": [
    "def load_parameter_messurements(directory: str) -> pd.DataFrame:\n",
    "    directory = Path(directory)\n",
    "    parameter_name = directory.stem\n",
    "    parameter_dirs = sorted(d for d in directory.iterdir() if d.is_dir())\n",
    "    \n",
    "    data = defaultdict(list)\n",
    "    for parameter_dir in parameter_dirs:\n",
    "        parameter_value = parameter_dir.name\n",
    "        parameter_data = load_mrowczenie(parameter_dir / Path('mrowczenie.txt'))\n",
    "        for k, v in parameter_data.items():\n",
    "            data[k].extend(v)\n",
    "        n = len(parameter_data[list(parameter_data.keys())[0]])\n",
    "        data['testowany parametr'].extend([parameter_name] * n)\n",
    "        data['wartość parametru'].extend([parameter_value] * n)\n",
    "        \n",
    "    df = pd.DataFrame(data)\n",
    "    df = df.astype({\n",
    "        'generacja': int,\n",
    "        'najlepsza mrówka': int,\n",
    "        'najlepsza wartość': float,\n",
    "        'najgorsza mrówka': int,\n",
    "        'najgorsza wartość': float,\n",
    "        'średnia wartość': float,\n",
    "        'wartość parametru': float\n",
    "    })\n",
    "    return df"
   ]
  },
  {
   "cell_type": "code",
   "execution_count": 55,
   "metadata": {
    "ExecuteTime": {
     "end_time": "2020-06-11T13:38:37.942065Z",
     "start_time": "2020-06-11T13:38:37.896736Z"
    }
   },
   "outputs": [
    {
     "name": "stdout",
     "output_type": "stream",
     "text": [
      "<class 'pandas.core.frame.DataFrame'>\n",
      "RangeIndex: 4000 entries, 0 to 3999\n",
      "Data columns (total 8 columns):\n",
      " #   Column              Non-Null Count  Dtype  \n",
      "---  ------              --------------  -----  \n",
      " 0   generacja           4000 non-null   int64  \n",
      " 1   najlepsza mrówka    4000 non-null   int64  \n",
      " 2   najlepsza wartość   4000 non-null   float64\n",
      " 3   najgorsza mrówka    4000 non-null   int64  \n",
      " 4   najgorsza wartość   4000 non-null   float64\n",
      " 5   średnia wartość     4000 non-null   float64\n",
      " 6   testowany parametr  4000 non-null   object \n",
      " 7   wartość parametru   4000 non-null   float64\n",
      "dtypes: float64(4), int64(3), object(1)\n",
      "memory usage: 250.1+ KB\n"
     ]
    },
    {
     "data": {
      "text/html": [
       "<div>\n",
       "<style scoped>\n",
       "    .dataframe tbody tr th:only-of-type {\n",
       "        vertical-align: middle;\n",
       "    }\n",
       "\n",
       "    .dataframe tbody tr th {\n",
       "        vertical-align: top;\n",
       "    }\n",
       "\n",
       "    .dataframe thead th {\n",
       "        text-align: right;\n",
       "    }\n",
       "</style>\n",
       "<table border=\"1\" class=\"dataframe\">\n",
       "  <thead>\n",
       "    <tr style=\"text-align: right;\">\n",
       "      <th></th>\n",
       "      <th>generacja</th>\n",
       "      <th>najlepsza mrówka</th>\n",
       "      <th>najlepsza wartość</th>\n",
       "      <th>najgorsza mrówka</th>\n",
       "      <th>najgorsza wartość</th>\n",
       "      <th>średnia wartość</th>\n",
       "      <th>testowany parametr</th>\n",
       "      <th>wartość parametru</th>\n",
       "    </tr>\n",
       "  </thead>\n",
       "  <tbody>\n",
       "    <tr>\n",
       "      <th>0</th>\n",
       "      <td>0</td>\n",
       "      <td>45</td>\n",
       "      <td>16.750883</td>\n",
       "      <td>49</td>\n",
       "      <td>21.968958</td>\n",
       "      <td>19.604503</td>\n",
       "      <td>aco_alfa</td>\n",
       "      <td>0.5</td>\n",
       "    </tr>\n",
       "    <tr>\n",
       "      <th>1</th>\n",
       "      <td>1</td>\n",
       "      <td>0</td>\n",
       "      <td>16.750883</td>\n",
       "      <td>8</td>\n",
       "      <td>23.613458</td>\n",
       "      <td>19.799045</td>\n",
       "      <td>aco_alfa</td>\n",
       "      <td>0.5</td>\n",
       "    </tr>\n",
       "    <tr>\n",
       "      <th>2</th>\n",
       "      <td>2</td>\n",
       "      <td>0</td>\n",
       "      <td>16.750883</td>\n",
       "      <td>16</td>\n",
       "      <td>21.257485</td>\n",
       "      <td>19.575276</td>\n",
       "      <td>aco_alfa</td>\n",
       "      <td>0.5</td>\n",
       "    </tr>\n",
       "    <tr>\n",
       "      <th>3</th>\n",
       "      <td>3</td>\n",
       "      <td>47</td>\n",
       "      <td>17.369803</td>\n",
       "      <td>34</td>\n",
       "      <td>22.419693</td>\n",
       "      <td>19.596351</td>\n",
       "      <td>aco_alfa</td>\n",
       "      <td>0.5</td>\n",
       "    </tr>\n",
       "    <tr>\n",
       "      <th>4</th>\n",
       "      <td>4</td>\n",
       "      <td>0</td>\n",
       "      <td>17.369803</td>\n",
       "      <td>41</td>\n",
       "      <td>21.898665</td>\n",
       "      <td>19.749420</td>\n",
       "      <td>aco_alfa</td>\n",
       "      <td>0.5</td>\n",
       "    </tr>\n",
       "    <tr>\n",
       "      <th>...</th>\n",
       "      <td>...</td>\n",
       "      <td>...</td>\n",
       "      <td>...</td>\n",
       "      <td>...</td>\n",
       "      <td>...</td>\n",
       "      <td>...</td>\n",
       "      <td>...</td>\n",
       "      <td>...</td>\n",
       "    </tr>\n",
       "    <tr>\n",
       "      <th>3995</th>\n",
       "      <td>995</td>\n",
       "      <td>0</td>\n",
       "      <td>17.654196</td>\n",
       "      <td>47</td>\n",
       "      <td>19.589807</td>\n",
       "      <td>18.676697</td>\n",
       "      <td>aco_alfa</td>\n",
       "      <td>2.0</td>\n",
       "    </tr>\n",
       "    <tr>\n",
       "      <th>3996</th>\n",
       "      <td>996</td>\n",
       "      <td>0</td>\n",
       "      <td>17.654196</td>\n",
       "      <td>11</td>\n",
       "      <td>19.413171</td>\n",
       "      <td>18.660359</td>\n",
       "      <td>aco_alfa</td>\n",
       "      <td>2.0</td>\n",
       "    </tr>\n",
       "    <tr>\n",
       "      <th>3997</th>\n",
       "      <td>997</td>\n",
       "      <td>0</td>\n",
       "      <td>17.654196</td>\n",
       "      <td>5</td>\n",
       "      <td>21.739988</td>\n",
       "      <td>18.610928</td>\n",
       "      <td>aco_alfa</td>\n",
       "      <td>2.0</td>\n",
       "    </tr>\n",
       "    <tr>\n",
       "      <th>3998</th>\n",
       "      <td>998</td>\n",
       "      <td>0</td>\n",
       "      <td>17.654196</td>\n",
       "      <td>41</td>\n",
       "      <td>19.589807</td>\n",
       "      <td>18.380930</td>\n",
       "      <td>aco_alfa</td>\n",
       "      <td>2.0</td>\n",
       "    </tr>\n",
       "    <tr>\n",
       "      <th>3999</th>\n",
       "      <td>999</td>\n",
       "      <td>0</td>\n",
       "      <td>17.654196</td>\n",
       "      <td>9</td>\n",
       "      <td>19.589807</td>\n",
       "      <td>18.566333</td>\n",
       "      <td>aco_alfa</td>\n",
       "      <td>2.0</td>\n",
       "    </tr>\n",
       "  </tbody>\n",
       "</table>\n",
       "<p>4000 rows × 8 columns</p>\n",
       "</div>"
      ],
      "text/plain": [
       "      generacja  najlepsza mrówka  najlepsza wartość  najgorsza mrówka  \\\n",
       "0             0                45          16.750883                49   \n",
       "1             1                 0          16.750883                 8   \n",
       "2             2                 0          16.750883                16   \n",
       "3             3                47          17.369803                34   \n",
       "4             4                 0          17.369803                41   \n",
       "...         ...               ...                ...               ...   \n",
       "3995        995                 0          17.654196                47   \n",
       "3996        996                 0          17.654196                11   \n",
       "3997        997                 0          17.654196                 5   \n",
       "3998        998                 0          17.654196                41   \n",
       "3999        999                 0          17.654196                 9   \n",
       "\n",
       "      najgorsza wartość  średnia wartość testowany parametr  wartość parametru  \n",
       "0             21.968958        19.604503           aco_alfa                0.5  \n",
       "1             23.613458        19.799045           aco_alfa                0.5  \n",
       "2             21.257485        19.575276           aco_alfa                0.5  \n",
       "3             22.419693        19.596351           aco_alfa                0.5  \n",
       "4             21.898665        19.749420           aco_alfa                0.5  \n",
       "...                 ...              ...                ...                ...  \n",
       "3995          19.589807        18.676697           aco_alfa                2.0  \n",
       "3996          19.413171        18.660359           aco_alfa                2.0  \n",
       "3997          21.739988        18.610928           aco_alfa                2.0  \n",
       "3998          19.589807        18.380930           aco_alfa                2.0  \n",
       "3999          19.589807        18.566333           aco_alfa                2.0  \n",
       "\n",
       "[4000 rows x 8 columns]"
      ]
     },
     "execution_count": 55,
     "metadata": {},
     "output_type": "execute_result"
    }
   ],
   "source": [
    "df = load_parameter_messurements('wyniki/aco_alfa')\n",
    "df.info()\n",
    "df['wartość parametru'].unique()\n",
    "df"
   ]
  },
  {
   "cell_type": "code",
   "execution_count": null,
   "metadata": {},
   "outputs": [],
   "source": []
  }
 ],
 "metadata": {
  "kernelspec": {
   "display_name": "Python 3",
   "language": "python",
   "name": "python3"
  },
  "language_info": {
   "codemirror_mode": {
    "name": "ipython",
    "version": 3
   },
   "file_extension": ".py",
   "mimetype": "text/x-python",
   "name": "python",
   "nbconvert_exporter": "python",
   "pygments_lexer": "ipython3",
   "version": "3.7.7"
  },
  "toc": {
   "base_numbering": 1,
   "nav_menu": {},
   "number_sections": false,
   "sideBar": true,
   "skip_h1_title": false,
   "title_cell": "Table of Contents",
   "title_sidebar": "Contents",
   "toc_cell": false,
   "toc_position": {},
   "toc_section_display": true,
   "toc_window_display": false
  },
  "varInspector": {
   "cols": {
    "lenName": 16,
    "lenType": 16,
    "lenVar": 40
   },
   "kernels_config": {
    "python": {
     "delete_cmd_postfix": "",
     "delete_cmd_prefix": "del ",
     "library": "var_list.py",
     "varRefreshCmd": "print(var_dic_list())"
    },
    "r": {
     "delete_cmd_postfix": ") ",
     "delete_cmd_prefix": "rm(",
     "library": "var_list.r",
     "varRefreshCmd": "cat(var_dic_list()) "
    }
   },
   "types_to_exclude": [
    "module",
    "function",
    "builtin_function_or_method",
    "instance",
    "_Feature"
   ],
   "window_display": false
  }
 },
 "nbformat": 4,
 "nbformat_minor": 2
}
