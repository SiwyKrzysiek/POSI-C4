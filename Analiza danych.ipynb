{
 "cells": [
  {
   "cell_type": "markdown",
   "metadata": {},
   "source": [
    "# Analiza wypływu parametrów na algorytm mrówkowy"
   ]
  },
  {
   "cell_type": "code",
   "execution_count": 1,
   "metadata": {
    "ExecuteTime": {
     "end_time": "2020-06-11T12:15:58.364576Z",
     "start_time": "2020-06-11T12:15:49.730173Z"
    }
   },
   "outputs": [],
   "source": [
    "import numpy as np\n",
    "import pandas as pd\n",
    "import plotly.express as px\n",
    "import plotly.graph_objects as go\n",
    "\n",
    "import re\n",
    "from pathlib import Path\n",
    "from glob import glob"
   ]
  },
  {
   "cell_type": "markdown",
   "metadata": {},
   "source": [
    "Przydatne funkcje"
   ]
  },
  {
   "cell_type": "code",
   "execution_count": 2,
   "metadata": {
    "ExecuteTime": {
     "end_time": "2020-06-11T12:15:58.377576Z",
     "start_time": "2020-06-11T12:15:58.372168Z"
    }
   },
   "outputs": [],
   "source": [
    "def load_mrowczenie(file_path: str) -> pd.DataFrame:\n",
    "    line_pattern = r'Pokolenie nr=\\s*(?P<generation>\\d+)\\s+najlepszy=\\s*(?P<best_ant_num>\\d+)\\(dl=\\s*(?P<best_value>[-+]?[0-9]*\\.?[0-9]*)\\),\\s*najgorszy=\\s*(?P<worst_ant_num>\\d+)\\(dl=\\s*(?P<worst_value>[-+]?[0-9]*\\.?[0-9]*)\\),\\s*średnia_dl=\\s*(?P<mean_value>[-+]?[0-9]*\\.?[0-9]*)'\n",
    "    \n",
    "    with open(file_path, 'r', encoding='windows-1250') as file:\n",
    "        lines = file.readlines()\n",
    "        \n",
    "    data = []\n",
    "    for line in lines:\n",
    "        match = re.match(line_pattern, line)\n",
    "        if not match:\n",
    "            print('Line didn\\'t match!')\n",
    "            continue\n",
    "            \n",
    "        data.append([match.group(g) for g in ['generation', 'best_ant_num', 'best_value', 'worst_ant_num', 'worst_value', 'mean_value']])\n",
    "        \n",
    "    return data"
   ]
  },
  {
   "cell_type": "code",
   "execution_count": 6,
   "metadata": {
    "ExecuteTime": {
     "end_time": "2020-06-11T13:00:51.745621Z",
     "start_time": "2020-06-11T13:00:51.740736Z"
    }
   },
   "outputs": [
    {
     "data": {
      "text/plain": [
       "[PosixPath('wyniki/aco_alfa/1.0'),\n",
       " PosixPath('wyniki/aco_alfa/2.0'),\n",
       " PosixPath('wyniki/aco_alfa/0.5'),\n",
       " PosixPath('wyniki/aco_alfa/1.5')]"
      ]
     },
     "execution_count": 6,
     "metadata": {},
     "output_type": "execute_result"
    }
   ],
   "source": [
    "[x for x in Path('wyniki/aco_alfa').iterdir() if x.is_dir()]"
   ]
  },
  {
   "cell_type": "code",
   "execution_count": 5,
   "metadata": {
    "ExecuteTime": {
     "end_time": "2020-06-11T12:57:18.942092Z",
     "start_time": "2020-06-11T12:57:18.937956Z"
    }
   },
   "outputs": [
    {
     "data": {
      "text/plain": [
       "['wyniki/aco_alfa/1.0',\n",
       " 'wyniki/aco_alfa/2.0',\n",
       " 'wyniki/aco_alfa/0.5',\n",
       " 'wyniki/aco_alfa/1.5']"
      ]
     },
     "execution_count": 5,
     "metadata": {},
     "output_type": "execute_result"
    }
   ],
   "source": [
    "glob('wyniki/aco_alfa/*')"
   ]
  },
  {
   "cell_type": "code",
   "execution_count": 14,
   "metadata": {
    "ExecuteTime": {
     "end_time": "2020-06-11T13:11:14.895445Z",
     "start_time": "2020-06-11T13:11:14.891853Z"
    }
   },
   "outputs": [],
   "source": [
    "def load_parameter_messurements(directory: str) -> pd.DataFrame:\n",
    "    directory = Path(directory)\n",
    "    parameter_name = directory.stem\n",
    "    print(parameter_name)\n",
    "    parameter_dirs = sorted(d for d in directory.iterdir() if d.is_dir()]\n",
    "    print(parameter_dirs)"
   ]
  },
  {
   "cell_type": "code",
   "execution_count": 15,
   "metadata": {
    "ExecuteTime": {
     "end_time": "2020-06-11T13:11:15.374207Z",
     "start_time": "2020-06-11T13:11:15.370552Z"
    }
   },
   "outputs": [
    {
     "name": "stdout",
     "output_type": "stream",
     "text": [
      "aco_alfa\n",
      "[PosixPath('wyniki/aco_alfa/1.0'), PosixPath('wyniki/aco_alfa/2.0'), PosixPath('wyniki/aco_alfa/0.5'), PosixPath('wyniki/aco_alfa/1.5')]\n"
     ]
    }
   ],
   "source": [
    "load_parameter_messurements('wyniki/aco_alfa')"
   ]
  },
  {
   "cell_type": "code",
   "execution_count": 3,
   "metadata": {
    "ExecuteTime": {
     "end_time": "2020-06-11T12:15:58.413041Z",
     "start_time": "2020-06-11T12:15:58.383942Z"
    }
   },
   "outputs": [
    {
     "data": {
      "text/html": [
       "<div>\n",
       "<style scoped>\n",
       "    .dataframe tbody tr th:only-of-type {\n",
       "        vertical-align: middle;\n",
       "    }\n",
       "\n",
       "    .dataframe tbody tr th {\n",
       "        vertical-align: top;\n",
       "    }\n",
       "\n",
       "    .dataframe thead th {\n",
       "        text-align: right;\n",
       "    }\n",
       "</style>\n",
       "<table border=\"1\" class=\"dataframe\">\n",
       "  <thead>\n",
       "    <tr style=\"text-align: right;\">\n",
       "      <th></th>\n",
       "      <th>0</th>\n",
       "      <th>1</th>\n",
       "      <th>2</th>\n",
       "      <th>3</th>\n",
       "      <th>4</th>\n",
       "      <th>5</th>\n",
       "    </tr>\n",
       "  </thead>\n",
       "  <tbody>\n",
       "    <tr>\n",
       "      <th>0</th>\n",
       "      <td>0</td>\n",
       "      <td>45</td>\n",
       "      <td>16.750883</td>\n",
       "      <td>49</td>\n",
       "      <td>21.968958</td>\n",
       "      <td>19.604503</td>\n",
       "    </tr>\n",
       "    <tr>\n",
       "      <th>1</th>\n",
       "      <td>1</td>\n",
       "      <td>0</td>\n",
       "      <td>16.750883</td>\n",
       "      <td>8</td>\n",
       "      <td>23.613458</td>\n",
       "      <td>19.799045</td>\n",
       "    </tr>\n",
       "    <tr>\n",
       "      <th>2</th>\n",
       "      <td>2</td>\n",
       "      <td>0</td>\n",
       "      <td>16.750883</td>\n",
       "      <td>16</td>\n",
       "      <td>21.257485</td>\n",
       "      <td>19.575276</td>\n",
       "    </tr>\n",
       "    <tr>\n",
       "      <th>3</th>\n",
       "      <td>3</td>\n",
       "      <td>47</td>\n",
       "      <td>17.369803</td>\n",
       "      <td>34</td>\n",
       "      <td>22.419693</td>\n",
       "      <td>19.596351</td>\n",
       "    </tr>\n",
       "    <tr>\n",
       "      <th>4</th>\n",
       "      <td>4</td>\n",
       "      <td>0</td>\n",
       "      <td>17.369803</td>\n",
       "      <td>41</td>\n",
       "      <td>21.898665</td>\n",
       "      <td>19.749420</td>\n",
       "    </tr>\n",
       "    <tr>\n",
       "      <th>...</th>\n",
       "      <td>...</td>\n",
       "      <td>...</td>\n",
       "      <td>...</td>\n",
       "      <td>...</td>\n",
       "      <td>...</td>\n",
       "      <td>...</td>\n",
       "    </tr>\n",
       "    <tr>\n",
       "      <th>995</th>\n",
       "      <td>995</td>\n",
       "      <td>0</td>\n",
       "      <td>19.127595</td>\n",
       "      <td>22</td>\n",
       "      <td>20.905448</td>\n",
       "      <td>19.131230</td>\n",
       "    </tr>\n",
       "    <tr>\n",
       "      <th>996</th>\n",
       "      <td>996</td>\n",
       "      <td>0</td>\n",
       "      <td>19.127595</td>\n",
       "      <td>46</td>\n",
       "      <td>23.500579</td>\n",
       "      <td>19.585200</td>\n",
       "    </tr>\n",
       "    <tr>\n",
       "      <th>997</th>\n",
       "      <td>997</td>\n",
       "      <td>0</td>\n",
       "      <td>19.127595</td>\n",
       "      <td>33</td>\n",
       "      <td>23.500579</td>\n",
       "      <td>19.546505</td>\n",
       "    </tr>\n",
       "    <tr>\n",
       "      <th>998</th>\n",
       "      <td>998</td>\n",
       "      <td>0</td>\n",
       "      <td>19.127595</td>\n",
       "      <td>5</td>\n",
       "      <td>22.171106</td>\n",
       "      <td>19.241195</td>\n",
       "    </tr>\n",
       "    <tr>\n",
       "      <th>999</th>\n",
       "      <td>999</td>\n",
       "      <td>0</td>\n",
       "      <td>19.127595</td>\n",
       "      <td>25</td>\n",
       "      <td>19.814224</td>\n",
       "      <td>19.301596</td>\n",
       "    </tr>\n",
       "  </tbody>\n",
       "</table>\n",
       "<p>1000 rows × 6 columns</p>\n",
       "</div>"
      ],
      "text/plain": [
       "       0   1          2   3          4          5\n",
       "0      0  45  16.750883  49  21.968958  19.604503\n",
       "1      1   0  16.750883   8  23.613458  19.799045\n",
       "2      2   0  16.750883  16  21.257485  19.575276\n",
       "3      3  47  17.369803  34  22.419693  19.596351\n",
       "4      4   0  17.369803  41  21.898665  19.749420\n",
       "..   ...  ..        ...  ..        ...        ...\n",
       "995  995   0  19.127595  22  20.905448  19.131230\n",
       "996  996   0  19.127595  46  23.500579  19.585200\n",
       "997  997   0  19.127595  33  23.500579  19.546505\n",
       "998  998   0  19.127595   5  22.171106  19.241195\n",
       "999  999   0  19.127595  25  19.814224  19.301596\n",
       "\n",
       "[1000 rows x 6 columns]"
      ]
     },
     "execution_count": 3,
     "metadata": {},
     "output_type": "execute_result"
    }
   ],
   "source": [
    "pd.DataFrame(load_mrowczenie('wyniki/aco_alfa/0.5/mrowczenie.txt'))"
   ]
  },
  {
   "cell_type": "code",
   "execution_count": null,
   "metadata": {},
   "outputs": [],
   "source": []
  }
 ],
 "metadata": {
  "kernelspec": {
   "display_name": "Python 3",
   "language": "python",
   "name": "python3"
  },
  "language_info": {
   "codemirror_mode": {
    "name": "ipython",
    "version": 3
   },
   "file_extension": ".py",
   "mimetype": "text/x-python",
   "name": "python",
   "nbconvert_exporter": "python",
   "pygments_lexer": "ipython3",
   "version": "3.7.7"
  },
  "toc": {
   "base_numbering": 1,
   "nav_menu": {},
   "number_sections": false,
   "sideBar": true,
   "skip_h1_title": false,
   "title_cell": "Table of Contents",
   "title_sidebar": "Contents",
   "toc_cell": false,
   "toc_position": {},
   "toc_section_display": true,
   "toc_window_display": false
  },
  "varInspector": {
   "cols": {
    "lenName": 16,
    "lenType": 16,
    "lenVar": 40
   },
   "kernels_config": {
    "python": {
     "delete_cmd_postfix": "",
     "delete_cmd_prefix": "del ",
     "library": "var_list.py",
     "varRefreshCmd": "print(var_dic_list())"
    },
    "r": {
     "delete_cmd_postfix": ") ",
     "delete_cmd_prefix": "rm(",
     "library": "var_list.r",
     "varRefreshCmd": "cat(var_dic_list()) "
    }
   },
   "types_to_exclude": [
    "module",
    "function",
    "builtin_function_or_method",
    "instance",
    "_Feature"
   ],
   "window_display": false
  }
 },
 "nbformat": 4,
 "nbformat_minor": 2
}
